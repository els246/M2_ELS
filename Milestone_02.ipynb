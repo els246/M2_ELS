{
 "cells": [
  {
   "cell_type": "markdown",
   "metadata": {},
   "source": [
    "# Project Milestone Two: Modeling and Feature Engineering\n",
    "\n",
    "### Due: Midnight on April 13 (with 2-hour grace period) and worth 25 points\n",
    "\n",
    "### Overview\n",
    "\n",
    "This milestone builds on your work from Milestone 1. You will:\n",
    "\n",
    "1. Evaluate baseline models using default settings.\n",
    "2. Engineer new features and re-evaluate models.\n",
    "3. Use feature selection techniques to find promising subsets.\n",
    "4. Select the top 3 models and fine-tune them for optimal performance.\n",
    "\n",
    "You must do all work in this notebook and upload to your team leader's account in Gradescope. There is no\n",
    "Individual Assessment for this Milestone. \n"
   ]
  },
  {
   "cell_type": "code",
   "execution_count": 1,
   "metadata": {},
   "outputs": [
    {
     "name": "stdout",
     "output_type": "stream",
     "text": [
      "Requirement already satisfied: tqdm in /home/codespace/.python/current/lib/python3.12/site-packages (4.67.1)\n",
      "Note: you may need to restart the kernel to use updated packages.\n"
     ]
    }
   ],
   "source": [
    "pip install tqdm"
   ]
  },
  {
   "cell_type": "code",
   "execution_count": 2,
   "metadata": {},
   "outputs": [],
   "source": [
    "# ===================================\n",
    "# Useful Imports: Add more as needed\n",
    "# ===================================\n",
    "\n",
    "# Standard Libraries\n",
    "import os\n",
    "import time\n",
    "import math\n",
    "import io\n",
    "import zipfile\n",
    "import requests\n",
    "from urllib.parse import urlparse\n",
    "from itertools import chain, combinations\n",
    "\n",
    "# Data Science Libraries\n",
    "import numpy as np\n",
    "import pandas as pd\n",
    "import seaborn as sns\n",
    "\n",
    "# Visualization\n",
    "import matplotlib.pyplot as plt\n",
    "import matplotlib.patches as patches\n",
    "import matplotlib.ticker as mticker  # Optional: Format y-axis labels as dollars\n",
    "import seaborn as sns\n",
    "\n",
    "# Scikit-learn (Machine Learning)\n",
    "from sklearn.model_selection import (\n",
    "    train_test_split, \n",
    "    cross_val_score, \n",
    "    GridSearchCV, \n",
    "    RandomizedSearchCV, \n",
    "    RepeatedKFold\n",
    ")\n",
    "from sklearn.preprocessing import StandardScaler, OrdinalEncoder\n",
    "from sklearn.impute import SimpleImputer\n",
    "from sklearn.metrics import mean_squared_error\n",
    "from sklearn.feature_selection import SequentialFeatureSelector, f_regression, SelectKBest\n",
    "from sklearn.linear_model import LinearRegression, Ridge, Lasso, ElasticNet\n",
    "from sklearn.ensemble import BaggingRegressor, RandomForestRegressor, GradientBoostingRegressor\n",
    "\n",
    "# Progress Tracking\n",
    "\n",
    "from tqdm import tqdm\n",
    "\n",
    "# =============================\n",
    "# Global Variables\n",
    "# =============================\n",
    "random_state = 42\n",
    "\n",
    "# =============================\n",
    "# Utility Functions\n",
    "# =============================\n",
    "\n",
    "# Format y-axis labels as dollars with commas (optional)\n",
    "def dollar_format(x, pos):\n",
    "    return f'${x:,.0f}'\n",
    "\n",
    "# Convert seconds to HH:MM:SS format\n",
    "def format_hms(seconds):\n",
    "    return time.strftime(\"%H:%M:%S\", time.gmtime(seconds))\n",
    "\n"
   ]
  },
  {
   "cell_type": "code",
   "execution_count": 3,
   "metadata": {},
   "outputs": [],
   "source": [
    "#this is my change "
   ]
  },
  {
   "cell_type": "markdown",
   "metadata": {},
   "source": [
    "## Prelude: Load your Preprocessed Dataset from Milestone 1\n",
    "\n",
    "In Milestone 1, you handled missing values, encoded categorical features, and explored your data. Before you begin this milestone, you’ll need to load that cleaned dataset and prepare it for modeling.\n",
    "\n",
    "Here’s what to do:\n",
    "\n",
    "1. Return to your Milestone 1 notebook and rerun your code through Part 3, where your dataset was fully cleaned (assume it’s called `df_cleaned`).\n",
    "\n",
    "2. **Save** the cleaned dataset to a file by running:\n",
    "\n",
    ">   df_cleaned.to_csv(\"zillow_cleaned.csv\", index=False)\n",
    "\n",
    "3. Switch to this notebook and **load** the saved data:\n",
    "\n",
    ">   df = pd.read_csv(\"zillow_cleaned.csv\")\n",
    "\n",
    "4. Create a **train/test split** using `train_test_split`.  \n",
    "   \n",
    "6. **Standardize** the features (but not the target!) using **only the training data.** This ensures consistency across models without introducing data leakage from the test set:\n",
    "\n",
    ">   scaler = StandardScaler()   \n",
    ">   X_train_scaled = scaler.fit_transform(X_train)    \n",
    "  \n",
    "**Notes:** \n",
    "\n",
    "- You will not use the testing set during this milestone — it’s reserved for final evaluation later.\n",
    "- You will have to redo the scaling step when you introduce new features (which have to be scaled as well).\n"
   ]
  },
  {
   "cell_type": "code",
   "execution_count": 4,
   "metadata": {},
   "outputs": [
    {
     "name": "stdout",
     "output_type": "stream",
     "text": [
      "       airconditioningtypeid  architecturalstyletypeid   bathroomcnt  \\\n",
      "count           77613.000000              77613.000000  77613.000000   \n",
      "mean                1.812013                  7.386473      2.298496   \n",
      "std                 1.683429                  0.140546      0.996513   \n",
      "min                 1.000000                  2.000000      0.000000   \n",
      "25%                 1.000000                  7.386473      2.000000   \n",
      "50%                 1.812013                  7.386473      2.000000   \n",
      "75%                 1.812013                  7.386473      3.000000   \n",
      "max                13.000000                 21.000000     18.000000   \n",
      "\n",
      "         bedroomcnt  buildingclasstypeid  buildingqualitytypeid  \\\n",
      "count  77613.000000         77613.000000           77613.000000   \n",
      "mean       3.053223             3.933333               6.533779   \n",
      "std        1.140230             0.003468               1.379538   \n",
      "min        0.000000             3.000000               1.000000   \n",
      "25%        2.000000             3.933333               6.000000   \n",
      "50%        3.000000             3.933333               6.533779   \n",
      "75%        4.000000             3.933333               7.000000   \n",
      "max       16.000000             4.000000              12.000000   \n",
      "\n",
      "       calculatedbathnbr  decktypeid  finishedfloor1squarefeet  \\\n",
      "count       77613.000000     77613.0              77613.000000   \n",
      "mean            2.316392        66.0               1366.165314   \n",
      "std             0.975578         0.0                187.042091   \n",
      "min             1.000000        66.0                 44.000000   \n",
      "25%             2.000000        66.0               1366.165314   \n",
      "50%             2.000000        66.0               1366.165314   \n",
      "75%             3.000000        66.0               1366.165314   \n",
      "max            18.000000        66.0               6912.000000   \n",
      "\n",
      "       calculatedfinishedsquarefeet  ...  numberofstories  assessmentyear  \\\n",
      "count                  77613.000000  ...     77613.000000         77613.0   \n",
      "mean                    1784.935421  ...         1.434286          2016.0   \n",
      "std                      952.804598  ...         0.259285             0.0   \n",
      "min                      128.000000  ...         1.000000          2016.0   \n",
      "25%                     1184.000000  ...         1.434286          2016.0   \n",
      "50%                     1546.000000  ...         1.434286          2016.0   \n",
      "75%                     2109.000000  ...         1.434286          2016.0   \n",
      "max                    35640.000000  ...         6.000000          2016.0   \n",
      "\n",
      "       taxdelinquencyyear  taxvaluedollarcnt  mean_propertycountylandusecode  \\\n",
      "count        77613.000000       7.761300e+04                    7.761300e+04   \n",
      "mean            14.088276       4.901506e+05                    4.901506e+05   \n",
      "std              0.421572       6.536504e+05                    1.892402e+05   \n",
      "min              3.000000       1.000000e+03                    1.450000e+05   \n",
      "25%             14.088276       2.069250e+05                    4.021687e+05   \n",
      "50%             14.088276       3.589710e+05                    4.043582e+05   \n",
      "75%             14.088276       5.688620e+05                    5.588589e+05   \n",
      "max             99.000000       4.906124e+07                    8.068454e+06   \n",
      "\n",
      "       mean_propertyzoningdesc  hashottuborspa_True  hashottuborspa_Missing  \\\n",
      "count             7.761300e+04         77613.000000            77613.000000   \n",
      "mean              4.901506e+05             0.019829                0.980171   \n",
      "std               2.877158e+05             0.139414                0.139414   \n",
      "min               3.101800e+04             0.000000                0.000000   \n",
      "25%               3.565037e+05             0.000000                1.000000   \n",
      "50%               5.238313e+05             0.000000                1.000000   \n",
      "75%               5.238313e+05             0.000000                1.000000   \n",
      "max               9.324332e+06             1.000000                1.000000   \n",
      "\n",
      "       taxdelinquencyflag_Missing  taxdelinquencyflag_Y  \n",
      "count                77613.000000          77613.000000  \n",
      "mean                     0.962635              0.037365  \n",
      "std                      0.189655              0.189655  \n",
      "min                      0.000000              0.000000  \n",
      "25%                      1.000000              0.000000  \n",
      "50%                      1.000000              0.000000  \n",
      "75%                      1.000000              0.000000  \n",
      "max                      1.000000              1.000000  \n",
      "\n",
      "[8 rows x 50 columns]\n",
      "<class 'pandas.core.frame.DataFrame'>\n",
      "RangeIndex: 77613 entries, 0 to 77612\n",
      "Data columns (total 50 columns):\n",
      " #   Column                          Non-Null Count  Dtype  \n",
      "---  ------                          --------------  -----  \n",
      " 0   airconditioningtypeid           77613 non-null  float64\n",
      " 1   architecturalstyletypeid        77613 non-null  float64\n",
      " 2   bathroomcnt                     77613 non-null  float64\n",
      " 3   bedroomcnt                      77613 non-null  float64\n",
      " 4   buildingclasstypeid             77613 non-null  float64\n",
      " 5   buildingqualitytypeid           77613 non-null  float64\n",
      " 6   calculatedbathnbr               77613 non-null  float64\n",
      " 7   decktypeid                      77613 non-null  float64\n",
      " 8   finishedfloor1squarefeet        77613 non-null  float64\n",
      " 9   calculatedfinishedsquarefeet    77613 non-null  float64\n",
      " 10  finishedsquarefeet12            77613 non-null  float64\n",
      " 11  finishedsquarefeet13            77613 non-null  float64\n",
      " 12  finishedsquarefeet15            77613 non-null  float64\n",
      " 13  finishedsquarefeet50            77613 non-null  float64\n",
      " 14  finishedsquarefeet6             77613 non-null  float64\n",
      " 15  fips                            77613 non-null  float64\n",
      " 16  fullbathcnt                     77613 non-null  float64\n",
      " 17  garagecarcnt                    77613 non-null  float64\n",
      " 18  garagetotalsqft                 77613 non-null  float64\n",
      " 19  heatingorsystemtypeid           77613 non-null  float64\n",
      " 20  latitude                        77613 non-null  float64\n",
      " 21  longitude                       77613 non-null  float64\n",
      " 22  lotsizesquarefeet               77613 non-null  float64\n",
      " 23  poolcnt                         77613 non-null  float64\n",
      " 24  poolsizesum                     77613 non-null  float64\n",
      " 25  pooltypeid10                    77613 non-null  float64\n",
      " 26  pooltypeid2                     77613 non-null  float64\n",
      " 27  pooltypeid7                     77613 non-null  float64\n",
      " 28  propertylandusetypeid           77613 non-null  float64\n",
      " 29  rawcensustractandblock          77613 non-null  float64\n",
      " 30  regionidcity                    77613 non-null  float64\n",
      " 31  regionidcounty                  77613 non-null  float64\n",
      " 32  regionidneighborhood            77613 non-null  float64\n",
      " 33  regionidzip                     77613 non-null  float64\n",
      " 34  roomcnt                         77613 non-null  float64\n",
      " 35  threequarterbathnbr             77613 non-null  float64\n",
      " 36  typeconstructiontypeid          77613 non-null  float64\n",
      " 37  unitcnt                         77613 non-null  float64\n",
      " 38  yardbuildingsqft26              77613 non-null  float64\n",
      " 39  yearbuilt                       77613 non-null  float64\n",
      " 40  numberofstories                 77613 non-null  float64\n",
      " 41  assessmentyear                  77613 non-null  float64\n",
      " 42  taxdelinquencyyear              77613 non-null  float64\n",
      " 43  taxvaluedollarcnt               77613 non-null  float64\n",
      " 44  mean_propertycountylandusecode  77613 non-null  float64\n",
      " 45  mean_propertyzoningdesc         77613 non-null  float64\n",
      " 46  hashottuborspa_True             77613 non-null  int64  \n",
      " 47  hashottuborspa_Missing          77613 non-null  int64  \n",
      " 48  taxdelinquencyflag_Missing      77613 non-null  int64  \n",
      " 49  taxdelinquencyflag_Y            77613 non-null  int64  \n",
      "dtypes: float64(46), int64(4)\n",
      "memory usage: 29.6 MB\n",
      "None\n"
     ]
    }
   ],
   "source": [
    "df_cleaned = pd.read_csv('zillow_cleaned.csv')\n",
    "print(df_cleaned.describe())\n",
    "print(df_cleaned.info())\n"
   ]
  },
  {
   "cell_type": "code",
   "execution_count": 5,
   "metadata": {},
   "outputs": [],
   "source": [
    "# missing_data = df.isnull().sum().sort_values(ascending=False)\n",
    "\n",
    "# # Impute missing numerical values with the mean and categorical values with the mode\n",
    "# numerical_cols = df.select_dtypes(include=['float64', 'int64']).columns\n",
    "# categorical_cols = df.select_dtypes(include=['object']).columns\n",
    "\n",
    "# # Insert numerical columns with the mean\n",
    "# df[numerical_cols] = df[numerical_cols].fillna(df[numerical_cols].mean())\n",
    "\n",
    "# # Insert categorical columns with the mode\n",
    "# df[categorical_cols].fillna(df[categorical_cols].mode().iloc[0])\n",
    "\n",
    "# # One-Hot Encoding categorical variables\n",
    "# df = pd.get_dummies(df, columns=categorical_cols, drop_first=True)"
   ]
  },
  {
   "cell_type": "code",
   "execution_count": 6,
   "metadata": {},
   "outputs": [],
   "source": [
    "# drop_cols_1 = ['basementsqft', 'yardbuildingsqft17', 'fireplacecnt', 'storytypeid']\n",
    "\n",
    "# # Drop the columns\n",
    "# df.drop(columns=drop_cols_1, inplace=True)\n",
    "\n",
    "# # Confirm the changes\n",
    "# df.info()"
   ]
  },
  {
   "cell_type": "code",
   "execution_count": 7,
   "metadata": {},
   "outputs": [],
   "source": [
    "# # drop samples with too many null values \n",
    "# threshold = 0.50  #gets rid of rows with over 50% missing values \n",
    "# null_percentage = df.isnull().mean(axis=1)\n",
    "# df_cleaned3c = df[null_percentage < threshold]\n",
    "# #print(df_cleaned3c) #these is the dataframe with dropped samples with na values > 50%\n",
    "\n",
    "# # drop samples with null values in target \n",
    "# df_no_null_target = df_cleaned3c[df_cleaned3c['taxvaluedollarcnt'].notnull()]\n",
    "# #print(df_no_null_target)\n",
    "\n",
    "# #get rid of samples with outliers in target using quartiles\n",
    "# q1 = df_no_null_target['taxvaluedollarcnt'].quantile(0.25)\n",
    "# q3 = df_no_null_target['taxvaluedollarcnt'].quantile(0.75)\n",
    "# IQR = q3 - q1\n",
    "# lower_bound = q1 - 1.5 * IQR\n",
    "# upper_bound = q3 + 1.5 * IQR\n",
    "\n",
    "# df_no_target_outliers = df_no_null_target[(df_no_null_target['taxvaluedollarcnt'] >= lower_bound) & (df_no_null_target['taxvaluedollarcnt']<= upper_bound)]\n",
    "# print(df_no_target_outliers)\n",
    "# df_no_target_outliers.info()\n",
    "\n",
    "# # mode imputation since categorical variables present\n",
    "\n",
    "# mode_imputed_data = df_no_target_outliers.fillna(df_no_target_outliers.mode().iloc[0])\n",
    "# # print(mode_imputed_data)\n",
    "\n",
    "# df_cleaned = mode_imputed_data\n",
    "# print(df_cleaned)\n",
    "\n",
    "# cleaned_data = pd.DataFrame(df_cleaned)\n",
    "# cleaned_data.to_csv('M1_cleaned_data.csv', index=False)"
   ]
  },
  {
   "cell_type": "markdown",
   "metadata": {},
   "source": [
    "### Part 1: Baseline Modeling [3 pts]\n",
    "\n",
    "Apply the following regression models to the scaled training dataset using **default parameters**:\n",
    "\n",
    "- Linear Regression\n",
    "- Ridge Regression\n",
    "- Lasso Regression\n",
    "- Decision Tree Regression\n",
    "- Bagging\n",
    "- Random Forest\n",
    "- Gradient Boosting Trees\n",
    "\n",
    "For each model:\n",
    "- Use **repeated cross-validation** (e.g., 5 folds, 5 repeats).\n",
    "- Report the **mean and standard deviation of CV RMSE Score** across all folds in a table. \n"
   ]
  },
  {
   "cell_type": "code",
   "execution_count": 8,
   "metadata": {},
   "outputs": [],
   "source": [
    "# Add as many code cells as you need"
   ]
  },
  {
   "cell_type": "markdown",
   "metadata": {},
   "source": [
    "### Part 1: Discussion [2 pts]\n",
    "\n",
    "In a paragraph or well-organized set of bullet points, briefly compare and discuss:\n",
    "\n",
    "  - Which models perform best overall?\n",
    "  - Which are most stable (lowest std)?\n",
    "  - Any signs of overfitting or underfitting?"
   ]
  },
  {
   "cell_type": "markdown",
   "metadata": {},
   "source": [
    "> Your text here"
   ]
  },
  {
   "cell_type": "markdown",
   "metadata": {},
   "source": [
    "### Part 2: Feature Engineering [3 pts]\n",
    "\n",
    "Consider **at least three new features** based on your Milestone 1, Part 5. Examples include:\n",
    "- Polynomial terms\n",
    "- Log or interaction terms\n",
    "- Groupings or transformations of categorical features\n",
    "\n",
    "Add these features to `X_train` and then:\n",
    "- Scale using `StandardScaler` \n",
    "- Re-run all models listed above (using default settings again).\n",
    "- Report updated RMSE scores (mean and std) across repeated CV in a table. \n",
    "\n",
    "**Note:**  Recall that this will require creating a new version of the dataset, so effectively you may be running \"polynomial regression\" using `LinearRegression`. "
   ]
  },
  {
   "cell_type": "code",
   "execution_count": 9,
   "metadata": {},
   "outputs": [],
   "source": [
    "# Add as many code cells as you need\n",
    "\n",
    "from sklearn.preprocessing import StandardScaler, PolynomialFeatures \n",
    "from sklearn.model_selection import cross_val_score, RepeatedKFold\n",
    "from sklearn.linear_model import LinearRegression\n",
    "from sklearn.tree import DecisionTreeRegressor\n",
    "from sklearn.ensemble import RandomForestRegressor\n",
    "from sklearn.model_selection import train_test_split\n"
   ]
  },
  {
   "cell_type": "code",
   "execution_count": 10,
   "metadata": {},
   "outputs": [],
   "source": [
    "# train test split cleaned dataset \n",
    "X = df_cleaned.drop(columns=['taxvaluedollarcnt']) # Features (all columns except the target)\n",
    "y = df_cleaned['taxvaluedollarcnt'] # Target variable\n",
    "X_train, X_test, y_train, y_test = train_test_split(X, y, test_size=0.2, random_state=42)\n",
    "\n",
    "X_train_num = X_train.select_dtypes(include=[np.number])\n",
    "X_test_num = X_test.select_dtypes(include=[np.number])"
   ]
  },
  {
   "cell_type": "code",
   "execution_count": 11,
   "metadata": {},
   "outputs": [
    {
     "name": "stdout",
     "output_type": "stream",
     "text": [
      "['airconditioningtypeid' 'architecturalstyletypeid' 'bathroomcnt' ...\n",
      " 'hashottuborspa_Missing taxdelinquencyflag_Missing'\n",
      " 'hashottuborspa_Missing taxdelinquencyflag_Y'\n",
      " 'taxdelinquencyflag_Missing taxdelinquencyflag_Y']\n"
     ]
    }
   ],
   "source": [
    "# Feature 1: Polynomial Features \n",
    "\n",
    "#setup poly \n",
    "poly = PolynomialFeatures(degree=2, include_bias=False, interaction_only=True)\n",
    "X_train_poly = poly.fit_transform(X_train_num)\n",
    "X_test_poly = poly.transform(X_test_num)\n",
    "\n",
    "feature_names_poly = poly.get_feature_names_out(X_train_num.columns)\n",
    "print(feature_names_poly)\n",
    "#train values on poly \n",
    "X_train_poly_df_cleaned = pd.DataFrame(X_train_poly, columns=feature_names_poly, index=X_train.index)\n",
    "X_test_poly_df_cleaned = pd.DataFrame(X_test_poly, columns=feature_names_poly, index=X_test.index)\n",
    "#print(X_train_poly_df_cleaned)\n",
    "\n",
    "#scale  \n",
    "scaler = StandardScaler()\n",
    "X_train_poly_scaled = scaler.fit_transform(X_train_poly_df_cleaned)\n",
    "X_test_poly_scaled = scaler.transform(X_test_poly_df_cleaned)"
   ]
  },
  {
   "cell_type": "code",
   "execution_count": 12,
   "metadata": {},
   "outputs": [],
   "source": [
    "# Feature 1 Modeling: \n",
    "\n",
    "\n"
   ]
  },
  {
   "cell_type": "code",
   "execution_count": 13,
   "metadata": {},
   "outputs": [
    {
     "name": "stderr",
     "output_type": "stream",
     "text": [
      "/home/codespace/.local/lib/python3.12/site-packages/pandas/core/internals/blocks.py:393: RuntimeWarning: invalid value encountered in log1p\n",
      "  result = func(self.values, **kwargs)\n",
      "/home/codespace/.local/lib/python3.12/site-packages/sklearn/utils/extmath.py:1101: RuntimeWarning: invalid value encountered in divide\n",
      "  updated_mean = (last_sum + new_sum) / updated_sample_count\n",
      "/home/codespace/.local/lib/python3.12/site-packages/sklearn/utils/extmath.py:1106: RuntimeWarning: invalid value encountered in divide\n",
      "  T = new_sum / new_sample_count\n",
      "/home/codespace/.local/lib/python3.12/site-packages/sklearn/utils/extmath.py:1126: RuntimeWarning: invalid value encountered in divide\n",
      "  new_unnormalized_variance -= correction**2 / new_sample_count\n",
      "/home/codespace/.local/lib/python3.12/site-packages/sklearn/utils/extmath.py:1101: RuntimeWarning: invalid value encountered in divide\n",
      "  updated_mean = (last_sum + new_sum) / updated_sample_count\n",
      "/home/codespace/.local/lib/python3.12/site-packages/sklearn/utils/extmath.py:1106: RuntimeWarning: invalid value encountered in divide\n",
      "  T = new_sum / new_sample_count\n",
      "/home/codespace/.local/lib/python3.12/site-packages/sklearn/utils/extmath.py:1126: RuntimeWarning: invalid value encountered in divide\n",
      "  new_unnormalized_variance -= correction**2 / new_sample_count\n"
     ]
    }
   ],
   "source": [
    "# Feature 2: Logarithmic Features \n",
    "\n",
    "#setup log\n",
    "X_train_log = np.log1p(X_train_num)\n",
    "X_test_log = np.log1p(X_test_num)\n",
    "\n",
    "X_train_log.columns = [f'log_{col}' for col in X_train_log.columns]\n",
    "X_test_log.columns = [f'log_{col}' for col in X_test_log.columns]\n",
    "\n",
    "#scale \n",
    "scaler = StandardScaler()\n",
    "X_train_log_scaled = scaler.fit_transform(X_train_log)\n",
    "X_test_log_scaled = scaler.fit_transform(X_test_log)\n"
   ]
  },
  {
   "cell_type": "code",
   "execution_count": 14,
   "metadata": {},
   "outputs": [],
   "source": [
    "# Feature 2 Modeling: \n",
    "\n"
   ]
  },
  {
   "cell_type": "code",
   "execution_count": 15,
   "metadata": {},
   "outputs": [],
   "source": [
    "# def target_encoding(df_cleaned, target_col='taxvaluedollarcnt'):\n",
    "#     encoding = df_cleaned.groupby([target_col]).mean()\n",
    "#     df_cleaned[+ '_encoded'] = df_cleaned[].map(encoding)\n",
    "#     return df_cleaned\n",
    "\n",
    "# X_train_target = target_encoding(X_train, 'categorical_column', 'target_column')\n",
    "# X_test_target = target_encoding(X_test, 'category_column', 'target_column')"
   ]
  },
  {
   "cell_type": "code",
   "execution_count": 16,
   "metadata": {},
   "outputs": [
    {
     "name": "stdout",
     "output_type": "stream",
     "text": [
      "Index(['airconditioningtypeid', 'architecturalstyletypeid', 'bathroomcnt',\n",
      "       'bedroomcnt', 'buildingclasstypeid', 'buildingqualitytypeid',\n",
      "       'calculatedbathnbr', 'decktypeid', 'finishedfloor1squarefeet',\n",
      "       'calculatedfinishedsquarefeet', 'finishedsquarefeet12',\n",
      "       'finishedsquarefeet13', 'finishedsquarefeet15', 'finishedsquarefeet50',\n",
      "       'finishedsquarefeet6', 'fips', 'fullbathcnt', 'garagecarcnt',\n",
      "       'garagetotalsqft', 'heatingorsystemtypeid', 'latitude', 'longitude',\n",
      "       'lotsizesquarefeet', 'poolcnt', 'poolsizesum', 'pooltypeid10',\n",
      "       'pooltypeid2', 'pooltypeid7', 'propertylandusetypeid',\n",
      "       'rawcensustractandblock', 'regionidcity', 'regionidcounty',\n",
      "       'regionidneighborhood', 'regionidzip', 'roomcnt', 'threequarterbathnbr',\n",
      "       'typeconstructiontypeid', 'unitcnt', 'yardbuildingsqft26', 'yearbuilt',\n",
      "       'numberofstories', 'assessmentyear', 'taxdelinquencyyear',\n",
      "       'taxvaluedollarcnt', 'mean_propertycountylandusecode',\n",
      "       'mean_propertyzoningdesc', 'hashottuborspa_True',\n",
      "       'hashottuborspa_Missing', 'taxdelinquencyflag_Missing',\n",
      "       'taxdelinquencyflag_Y'],\n",
      "      dtype='object')\n"
     ]
    }
   ],
   "source": [
    "print(df_cleaned.columns)"
   ]
  },
  {
   "cell_type": "code",
   "execution_count": 17,
   "metadata": {},
   "outputs": [
    {
     "name": "stdout",
     "output_type": "stream",
     "text": [
      "       airconditioningtypeid  architecturalstyletypeid  bathroomcnt  \\\n",
      "0                   0.067668                  0.283499     0.166667   \n",
      "1                   0.000000                  0.283499     0.111111   \n",
      "2                   0.067668                  0.283499     0.055556   \n",
      "3                   0.000000                  0.283499     0.166667   \n",
      "4                   0.000000                  0.283499     0.083333   \n",
      "...                      ...                       ...          ...   \n",
      "62085               0.067668                  0.283499     0.055556   \n",
      "62086               0.067668                  0.283499     0.166667   \n",
      "62087               0.000000                  0.283499     0.166667   \n",
      "62088               0.000000                  0.283499     0.055556   \n",
      "62089               0.000000                  0.283499     0.166667   \n",
      "\n",
      "       bedroomcnt  buildingclasstypeid  buildingqualitytypeid  \\\n",
      "0          0.1250             0.933333               0.727273   \n",
      "1          0.1250             0.933333               0.503071   \n",
      "2          0.0625             0.933333               0.503071   \n",
      "3          0.1875             0.933333               0.636364   \n",
      "4          0.1250             0.933333               0.503071   \n",
      "...           ...                  ...                    ...   \n",
      "62085      0.0625             0.933333               0.454545   \n",
      "62086      0.1875             0.933333               0.503071   \n",
      "62087      0.1875             0.933333               0.545455   \n",
      "62088      0.0625             0.933333               0.454545   \n",
      "62089      0.2500             0.933333               0.636364   \n",
      "\n",
      "       calculatedbathnbr  decktypeid  finishedfloor1squarefeet  \\\n",
      "0               0.117647         0.0                  0.197008   \n",
      "1               0.058824         0.0                  0.197008   \n",
      "2               0.000000         0.0                  0.197008   \n",
      "3               0.117647         0.0                  0.197008   \n",
      "4               0.029412         0.0                  0.197008   \n",
      "...                  ...         ...                       ...   \n",
      "62085           0.000000         0.0                  0.197008   \n",
      "62086           0.117647         0.0                  0.197008   \n",
      "62087           0.117647         0.0                  0.197008   \n",
      "62088           0.000000         0.0                  0.197008   \n",
      "62089           0.117647         0.0                  0.197008   \n",
      "\n",
      "       calculatedfinishedsquarefeet  ...  yearbuilt  numberofstories  \\\n",
      "0                          0.054010  ...   0.720000         0.086857   \n",
      "1                          0.035171  ...   0.840000         0.086857   \n",
      "2                          0.021739  ...   0.820000         0.086857   \n",
      "3                          0.037227  ...   0.813333         0.086857   \n",
      "4                          0.027850  ...   0.700000         0.000000   \n",
      "...                             ...  ...        ...              ...   \n",
      "62085                      0.013207  ...   0.693333         0.086857   \n",
      "62086                      0.035763  ...   0.766667         0.086857   \n",
      "62087                      0.053925  ...   0.953333         0.086857   \n",
      "62088                      0.017234  ...   0.806667         0.086857   \n",
      "62089                      0.053052  ...   0.500000         0.086857   \n",
      "\n",
      "       assessmentyear  taxdelinquencyyear  mean_propertycountylandusecode  \\\n",
      "0                 0.0            0.924023                        0.048917   \n",
      "1                 0.0            0.924023                        0.032733   \n",
      "2                 0.0            0.924023                        0.024567   \n",
      "3                 0.0            0.924023                        0.032457   \n",
      "4                 0.0            0.924023                        0.024567   \n",
      "...               ...                 ...                             ...   \n",
      "62085             0.0            0.924023                        0.021806   \n",
      "62086             0.0            0.924023                        0.024567   \n",
      "62087             0.0            0.924023                        0.039252   \n",
      "62088             0.0            0.924023                        0.021806   \n",
      "62089             0.0            0.924023                        0.089711   \n",
      "\n",
      "       mean_propertyzoningdesc  hashottuborspa_True  hashottuborspa_Missing  \\\n",
      "0                     0.034672                  0.0                     1.0   \n",
      "1                     0.045326                  0.0                     1.0   \n",
      "2                     0.052734                  0.0                     1.0   \n",
      "3                     0.037648                  0.0                     1.0   \n",
      "4                     0.052734                  0.0                     1.0   \n",
      "...                        ...                  ...                     ...   \n",
      "62085                 0.026907                  0.0                     1.0   \n",
      "62086                 0.052734                  0.0                     1.0   \n",
      "62087                 0.015713                  0.0                     1.0   \n",
      "62088                 0.030480                  0.0                     1.0   \n",
      "62089                 0.052734                  0.0                     1.0   \n",
      "\n",
      "       taxdelinquencyflag_Missing  taxdelinquencyflag_Y  \n",
      "0                             1.0                   0.0  \n",
      "1                             1.0                   0.0  \n",
      "2                             1.0                   0.0  \n",
      "3                             1.0                   0.0  \n",
      "4                             1.0                   0.0  \n",
      "...                           ...                   ...  \n",
      "62085                         1.0                   0.0  \n",
      "62086                         1.0                   0.0  \n",
      "62087                         1.0                   0.0  \n",
      "62088                         1.0                   0.0  \n",
      "62089                         1.0                   0.0  \n",
      "\n",
      "[62090 rows x 49 columns]\n"
     ]
    }
   ],
   "source": [
    "# Feature 3: Normalization \n",
    "\n",
    "#setup Normalization\n",
    "from sklearn.preprocessing import MinMaxScaler\n",
    "\n",
    "X = df_cleaned.drop(columns=['taxvaluedollarcnt'])\n",
    "y = df_cleaned['taxvaluedollarcnt']\n",
    "\n",
    "scaler = MinMaxScaler()\n",
    "X_train_normalized = scaler.fit_transform(X_train)\n",
    "X_test_normalized = scaler.transform(X_test)\n",
    "\n",
    "X_train_normalized_df = pd.DataFrame(X_train_normalized, columns=X.columns)\n",
    "X_test_normalized_df = pd.DataFrame(X_test_normalized, columns=X.columns)\n",
    "print(X_train_normalized_df)\n"
   ]
  },
  {
   "cell_type": "code",
   "execution_count": 18,
   "metadata": {},
   "outputs": [],
   "source": [
    "# # Feature 3: Target Encoding \n",
    "\n",
    "# #setup Target Encoding \n",
    "\n",
    "# def target_encoding(df_cleaned, target_col='taxvaluedollarcnt'):\n",
    "    \n",
    "#     if target_col not in df_cleaned.columns:\n",
    "#         raise KeyError(f\"Target column '{target_col}' not found in the DataFrame.\")\n",
    "    \n",
    "#     X = df_cleaned.drop(columns=[target_col])\n",
    "#     y = df_cleaned[target_col]\n",
    "\n",
    "#     categorical_cols = X.select_dtypes(include=['object']).columns \n",
    "#     for col in categorical_cols:\n",
    "#         encoding = df_cleaned.groupby(col)[target_col].mean()\n",
    "#         X[col + '_encoded'] = X[col].map(encoding)\n",
    "    \n",
    "#     print(\"Target Encoding applied:\")\n",
    "#     print(X.head())\n",
    "#     return X\n",
    "\n",
    "# X_train_target_enc = target_encoding(X_train, target_col='taxvaluedollarcnt')\n",
    "# X_test_target_enc = target_encoding(X_test, target_col='taxvaluedollarcnt')\n",
    "# # \n",
    "# # \n",
    "# # #df_cleaned_target_encoded = target_encoding(df_cleaned)\n",
    "# # #df_sample_target_encoded = df_cleaned_target_encoded.sample(n=1000, random_state=42)\n",
    "\n"
   ]
  },
  {
   "cell_type": "code",
   "execution_count": null,
   "metadata": {},
   "outputs": [
    {
     "ename": "",
     "evalue": "",
     "output_type": "error",
     "traceback": [
      "\u001b[1;31mThe Kernel crashed while executing code in the current cell or a previous cell. \n",
      "\u001b[1;31mPlease review the code in the cell(s) to identify a possible cause of the failure. \n",
      "\u001b[1;31mClick <a href='https://aka.ms/vscodeJupyterKernelCrash'>here</a> for more info. \n",
      "\u001b[1;31mView Jupyter <a href='command:jupyter.viewOutput'>log</a> for further details."
     ]
    }
   ],
   "source": [
    "X_train_sample = X_train.sample(n=1000, random_state=42)\n",
    "\n",
    "X_train_combined = pd.concat([\n",
    "    X_train_sample, \n",
    "    X_train_poly_df_cleaned, \n",
    "    X_train_log, \n",
    "    X_train_normalized_df\n",
    "], axis=1)"
   ]
  },
  {
   "cell_type": "code",
   "execution_count": null,
   "metadata": {},
   "outputs": [],
   "source": [
    "#scale using Standard Scaler \n",
    "\n",
    "scale = StandardScaler()\n",
    "X_train_scaled = scale.fit_transform(X_train_combined)\n",
    "\n",
    "X_train_scaled_df = pd.DataFrame(X_train_scaled, columns=X_train_combined.columns)\n",
    "\n",
    "print(X_train_scaled_df)"
   ]
  },
  {
   "cell_type": "code",
   "execution_count": null,
   "metadata": {},
   "outputs": [],
   "source": [
    "\n",
    "# X_train_combined = np.hstack([X_train_poly_df_cleaned, X_train_log, X_train_normalized_df])\n",
    "# print(X_train_combined)"
   ]
  },
  {
   "cell_type": "code",
   "execution_count": null,
   "metadata": {},
   "outputs": [
    {
     "ename": "ValueError",
     "evalue": "\nAll the 5 fits failed.\nIt is very likely that your model is misconfigured.\nYou can try to debug the error by setting error_score='raise'.\n\nBelow are more details about the failures:\n--------------------------------------------------------------------------------\n5 fits failed with the following error:\nTraceback (most recent call last):\n  File \"/home/codespace/.local/lib/python3.12/site-packages/sklearn/model_selection/_validation.py\", line 866, in _fit_and_score\n    estimator.fit(X_train, y_train, **fit_params)\n  File \"/home/codespace/.local/lib/python3.12/site-packages/sklearn/base.py\", line 1389, in wrapper\n    return fit_method(estimator, *args, **kwargs)\n           ^^^^^^^^^^^^^^^^^^^^^^^^^^^^^^^^^^^^^^\n  File \"/home/codespace/.local/lib/python3.12/site-packages/sklearn/linear_model/_base.py\", line 601, in fit\n    X, y = validate_data(\n           ^^^^^^^^^^^^^^\n  File \"/home/codespace/.local/lib/python3.12/site-packages/sklearn/utils/validation.py\", line 2961, in validate_data\n    X, y = check_X_y(X, y, **check_params)\n           ^^^^^^^^^^^^^^^^^^^^^^^^^^^^^^^\n  File \"/home/codespace/.local/lib/python3.12/site-packages/sklearn/utils/validation.py\", line 1370, in check_X_y\n    X = check_array(\n        ^^^^^^^^^^^^\n  File \"/home/codespace/.local/lib/python3.12/site-packages/sklearn/utils/validation.py\", line 1107, in check_array\n    _assert_all_finite(\n  File \"/home/codespace/.local/lib/python3.12/site-packages/sklearn/utils/validation.py\", line 120, in _assert_all_finite\n    _assert_all_finite_element_wise(\n  File \"/home/codespace/.local/lib/python3.12/site-packages/sklearn/utils/validation.py\", line 169, in _assert_all_finite_element_wise\n    raise ValueError(msg_err)\nValueError: Input X contains NaN.\nLinearRegression does not accept missing values encoded as NaN natively. For supervised learning, you might want to consider sklearn.ensemble.HistGradientBoostingClassifier and Regressor which accept missing values encoded as NaNs natively. Alternatively, it is possible to preprocess the data, for instance by using an imputer transformer in a pipeline or drop samples with missing values. See https://scikit-learn.org/stable/modules/impute.html You can find a list of all estimators that handle NaN values at the following page: https://scikit-learn.org/stable/modules/impute.html#estimators-that-handle-nan-values\n",
     "output_type": "error",
     "traceback": [
      "\u001b[31m---------------------------------------------------------------------------\u001b[39m",
      "\u001b[31mValueError\u001b[39m                                Traceback (most recent call last)",
      "\u001b[36mCell\u001b[39m\u001b[36m \u001b[39m\u001b[32mIn[21]\u001b[39m\u001b[32m, line 23\u001b[39m\n\u001b[32m     20\u001b[39m cv_results = []\n\u001b[32m     22\u001b[39m \u001b[38;5;28;01mfor\u001b[39;00m model_name, model \u001b[38;5;129;01min\u001b[39;00m models.items():\n\u001b[32m---> \u001b[39m\u001b[32m23\u001b[39m     neg_mse_scores = \u001b[43mcross_val_score\u001b[49m\u001b[43m(\u001b[49m\u001b[43mmodel\u001b[49m\u001b[43m,\u001b[49m\u001b[43m \u001b[49m\u001b[43mX_train_combined\u001b[49m\u001b[43m,\u001b[49m\u001b[43m \u001b[49m\u001b[43my_train\u001b[49m\u001b[43m,\u001b[49m\u001b[43m \u001b[49m\u001b[43mcv\u001b[49m\u001b[43m=\u001b[49m\u001b[43mkf\u001b[49m\u001b[43m,\u001b[49m\u001b[43m \u001b[49m\u001b[43mscoring\u001b[49m\u001b[43m=\u001b[49m\u001b[33;43m'\u001b[39;49m\u001b[33;43mneg_mean_squared_error\u001b[39;49m\u001b[33;43m'\u001b[39;49m\u001b[43m)\u001b[49m\n\u001b[32m     24\u001b[39m     rmse_scores = np.sqrt(-neg_mse_scores)\n\u001b[32m     25\u001b[39m     cv_results.append({\n\u001b[32m     26\u001b[39m         \u001b[33m'\u001b[39m\u001b[33mModel\u001b[39m\u001b[33m'\u001b[39m: model_name, \n\u001b[32m     27\u001b[39m         \u001b[33m'\u001b[39m\u001b[33mMean RMSE\u001b[39m\u001b[33m'\u001b[39m: np.mean(rmse_scores), \n\u001b[32m     28\u001b[39m         \u001b[33m'\u001b[39m\u001b[33mStd RMSE\u001b[39m\u001b[33m'\u001b[39m: np.std(rmse_scores)\n\u001b[32m     29\u001b[39m     })\n",
      "\u001b[36mFile \u001b[39m\u001b[32m~/.local/lib/python3.12/site-packages/sklearn/utils/_param_validation.py:216\u001b[39m, in \u001b[36mvalidate_params.<locals>.decorator.<locals>.wrapper\u001b[39m\u001b[34m(*args, **kwargs)\u001b[39m\n\u001b[32m    210\u001b[39m \u001b[38;5;28;01mtry\u001b[39;00m:\n\u001b[32m    211\u001b[39m     \u001b[38;5;28;01mwith\u001b[39;00m config_context(\n\u001b[32m    212\u001b[39m         skip_parameter_validation=(\n\u001b[32m    213\u001b[39m             prefer_skip_nested_validation \u001b[38;5;129;01mor\u001b[39;00m global_skip_validation\n\u001b[32m    214\u001b[39m         )\n\u001b[32m    215\u001b[39m     ):\n\u001b[32m--> \u001b[39m\u001b[32m216\u001b[39m         \u001b[38;5;28;01mreturn\u001b[39;00m \u001b[43mfunc\u001b[49m\u001b[43m(\u001b[49m\u001b[43m*\u001b[49m\u001b[43margs\u001b[49m\u001b[43m,\u001b[49m\u001b[43m \u001b[49m\u001b[43m*\u001b[49m\u001b[43m*\u001b[49m\u001b[43mkwargs\u001b[49m\u001b[43m)\u001b[49m\n\u001b[32m    217\u001b[39m \u001b[38;5;28;01mexcept\u001b[39;00m InvalidParameterError \u001b[38;5;28;01mas\u001b[39;00m e:\n\u001b[32m    218\u001b[39m     \u001b[38;5;66;03m# When the function is just a wrapper around an estimator, we allow\u001b[39;00m\n\u001b[32m    219\u001b[39m     \u001b[38;5;66;03m# the function to delegate validation to the estimator, but we replace\u001b[39;00m\n\u001b[32m    220\u001b[39m     \u001b[38;5;66;03m# the name of the estimator by the name of the function in the error\u001b[39;00m\n\u001b[32m    221\u001b[39m     \u001b[38;5;66;03m# message to avoid confusion.\u001b[39;00m\n\u001b[32m    222\u001b[39m     msg = re.sub(\n\u001b[32m    223\u001b[39m         \u001b[33mr\u001b[39m\u001b[33m\"\u001b[39m\u001b[33mparameter of \u001b[39m\u001b[33m\\\u001b[39m\u001b[33mw+ must be\u001b[39m\u001b[33m\"\u001b[39m,\n\u001b[32m    224\u001b[39m         \u001b[33mf\u001b[39m\u001b[33m\"\u001b[39m\u001b[33mparameter of \u001b[39m\u001b[38;5;132;01m{\u001b[39;00mfunc.\u001b[34m__qualname__\u001b[39m\u001b[38;5;132;01m}\u001b[39;00m\u001b[33m must be\u001b[39m\u001b[33m\"\u001b[39m,\n\u001b[32m    225\u001b[39m         \u001b[38;5;28mstr\u001b[39m(e),\n\u001b[32m    226\u001b[39m     )\n",
      "\u001b[36mFile \u001b[39m\u001b[32m~/.local/lib/python3.12/site-packages/sklearn/model_selection/_validation.py:684\u001b[39m, in \u001b[36mcross_val_score\u001b[39m\u001b[34m(estimator, X, y, groups, scoring, cv, n_jobs, verbose, params, pre_dispatch, error_score)\u001b[39m\n\u001b[32m    681\u001b[39m \u001b[38;5;66;03m# To ensure multimetric format is not supported\u001b[39;00m\n\u001b[32m    682\u001b[39m scorer = check_scoring(estimator, scoring=scoring)\n\u001b[32m--> \u001b[39m\u001b[32m684\u001b[39m cv_results = \u001b[43mcross_validate\u001b[49m\u001b[43m(\u001b[49m\n\u001b[32m    685\u001b[39m \u001b[43m    \u001b[49m\u001b[43mestimator\u001b[49m\u001b[43m=\u001b[49m\u001b[43mestimator\u001b[49m\u001b[43m,\u001b[49m\n\u001b[32m    686\u001b[39m \u001b[43m    \u001b[49m\u001b[43mX\u001b[49m\u001b[43m=\u001b[49m\u001b[43mX\u001b[49m\u001b[43m,\u001b[49m\n\u001b[32m    687\u001b[39m \u001b[43m    \u001b[49m\u001b[43my\u001b[49m\u001b[43m=\u001b[49m\u001b[43my\u001b[49m\u001b[43m,\u001b[49m\n\u001b[32m    688\u001b[39m \u001b[43m    \u001b[49m\u001b[43mgroups\u001b[49m\u001b[43m=\u001b[49m\u001b[43mgroups\u001b[49m\u001b[43m,\u001b[49m\n\u001b[32m    689\u001b[39m \u001b[43m    \u001b[49m\u001b[43mscoring\u001b[49m\u001b[43m=\u001b[49m\u001b[43m{\u001b[49m\u001b[33;43m\"\u001b[39;49m\u001b[33;43mscore\u001b[39;49m\u001b[33;43m\"\u001b[39;49m\u001b[43m:\u001b[49m\u001b[43m \u001b[49m\u001b[43mscorer\u001b[49m\u001b[43m}\u001b[49m\u001b[43m,\u001b[49m\n\u001b[32m    690\u001b[39m \u001b[43m    \u001b[49m\u001b[43mcv\u001b[49m\u001b[43m=\u001b[49m\u001b[43mcv\u001b[49m\u001b[43m,\u001b[49m\n\u001b[32m    691\u001b[39m \u001b[43m    \u001b[49m\u001b[43mn_jobs\u001b[49m\u001b[43m=\u001b[49m\u001b[43mn_jobs\u001b[49m\u001b[43m,\u001b[49m\n\u001b[32m    692\u001b[39m \u001b[43m    \u001b[49m\u001b[43mverbose\u001b[49m\u001b[43m=\u001b[49m\u001b[43mverbose\u001b[49m\u001b[43m,\u001b[49m\n\u001b[32m    693\u001b[39m \u001b[43m    \u001b[49m\u001b[43mparams\u001b[49m\u001b[43m=\u001b[49m\u001b[43mparams\u001b[49m\u001b[43m,\u001b[49m\n\u001b[32m    694\u001b[39m \u001b[43m    \u001b[49m\u001b[43mpre_dispatch\u001b[49m\u001b[43m=\u001b[49m\u001b[43mpre_dispatch\u001b[49m\u001b[43m,\u001b[49m\n\u001b[32m    695\u001b[39m \u001b[43m    \u001b[49m\u001b[43merror_score\u001b[49m\u001b[43m=\u001b[49m\u001b[43merror_score\u001b[49m\u001b[43m,\u001b[49m\n\u001b[32m    696\u001b[39m \u001b[43m\u001b[49m\u001b[43m)\u001b[49m\n\u001b[32m    697\u001b[39m \u001b[38;5;28;01mreturn\u001b[39;00m cv_results[\u001b[33m\"\u001b[39m\u001b[33mtest_score\u001b[39m\u001b[33m\"\u001b[39m]\n",
      "\u001b[36mFile \u001b[39m\u001b[32m~/.local/lib/python3.12/site-packages/sklearn/utils/_param_validation.py:216\u001b[39m, in \u001b[36mvalidate_params.<locals>.decorator.<locals>.wrapper\u001b[39m\u001b[34m(*args, **kwargs)\u001b[39m\n\u001b[32m    210\u001b[39m \u001b[38;5;28;01mtry\u001b[39;00m:\n\u001b[32m    211\u001b[39m     \u001b[38;5;28;01mwith\u001b[39;00m config_context(\n\u001b[32m    212\u001b[39m         skip_parameter_validation=(\n\u001b[32m    213\u001b[39m             prefer_skip_nested_validation \u001b[38;5;129;01mor\u001b[39;00m global_skip_validation\n\u001b[32m    214\u001b[39m         )\n\u001b[32m    215\u001b[39m     ):\n\u001b[32m--> \u001b[39m\u001b[32m216\u001b[39m         \u001b[38;5;28;01mreturn\u001b[39;00m \u001b[43mfunc\u001b[49m\u001b[43m(\u001b[49m\u001b[43m*\u001b[49m\u001b[43margs\u001b[49m\u001b[43m,\u001b[49m\u001b[43m \u001b[49m\u001b[43m*\u001b[49m\u001b[43m*\u001b[49m\u001b[43mkwargs\u001b[49m\u001b[43m)\u001b[49m\n\u001b[32m    217\u001b[39m \u001b[38;5;28;01mexcept\u001b[39;00m InvalidParameterError \u001b[38;5;28;01mas\u001b[39;00m e:\n\u001b[32m    218\u001b[39m     \u001b[38;5;66;03m# When the function is just a wrapper around an estimator, we allow\u001b[39;00m\n\u001b[32m    219\u001b[39m     \u001b[38;5;66;03m# the function to delegate validation to the estimator, but we replace\u001b[39;00m\n\u001b[32m    220\u001b[39m     \u001b[38;5;66;03m# the name of the estimator by the name of the function in the error\u001b[39;00m\n\u001b[32m    221\u001b[39m     \u001b[38;5;66;03m# message to avoid confusion.\u001b[39;00m\n\u001b[32m    222\u001b[39m     msg = re.sub(\n\u001b[32m    223\u001b[39m         \u001b[33mr\u001b[39m\u001b[33m\"\u001b[39m\u001b[33mparameter of \u001b[39m\u001b[33m\\\u001b[39m\u001b[33mw+ must be\u001b[39m\u001b[33m\"\u001b[39m,\n\u001b[32m    224\u001b[39m         \u001b[33mf\u001b[39m\u001b[33m\"\u001b[39m\u001b[33mparameter of \u001b[39m\u001b[38;5;132;01m{\u001b[39;00mfunc.\u001b[34m__qualname__\u001b[39m\u001b[38;5;132;01m}\u001b[39;00m\u001b[33m must be\u001b[39m\u001b[33m\"\u001b[39m,\n\u001b[32m    225\u001b[39m         \u001b[38;5;28mstr\u001b[39m(e),\n\u001b[32m    226\u001b[39m     )\n",
      "\u001b[36mFile \u001b[39m\u001b[32m~/.local/lib/python3.12/site-packages/sklearn/model_selection/_validation.py:431\u001b[39m, in \u001b[36mcross_validate\u001b[39m\u001b[34m(estimator, X, y, groups, scoring, cv, n_jobs, verbose, params, pre_dispatch, return_train_score, return_estimator, return_indices, error_score)\u001b[39m\n\u001b[32m    410\u001b[39m parallel = Parallel(n_jobs=n_jobs, verbose=verbose, pre_dispatch=pre_dispatch)\n\u001b[32m    411\u001b[39m results = parallel(\n\u001b[32m    412\u001b[39m     delayed(_fit_and_score)(\n\u001b[32m    413\u001b[39m         clone(estimator),\n\u001b[32m   (...)\u001b[39m\u001b[32m    428\u001b[39m     \u001b[38;5;28;01mfor\u001b[39;00m train, test \u001b[38;5;129;01min\u001b[39;00m indices\n\u001b[32m    429\u001b[39m )\n\u001b[32m--> \u001b[39m\u001b[32m431\u001b[39m \u001b[43m_warn_or_raise_about_fit_failures\u001b[49m\u001b[43m(\u001b[49m\u001b[43mresults\u001b[49m\u001b[43m,\u001b[49m\u001b[43m \u001b[49m\u001b[43merror_score\u001b[49m\u001b[43m)\u001b[49m\n\u001b[32m    433\u001b[39m \u001b[38;5;66;03m# For callable scoring, the return type is only know after calling. If the\u001b[39;00m\n\u001b[32m    434\u001b[39m \u001b[38;5;66;03m# return type is a dictionary, the error scores can now be inserted with\u001b[39;00m\n\u001b[32m    435\u001b[39m \u001b[38;5;66;03m# the correct key.\u001b[39;00m\n\u001b[32m    436\u001b[39m \u001b[38;5;28;01mif\u001b[39;00m \u001b[38;5;28mcallable\u001b[39m(scoring):\n",
      "\u001b[36mFile \u001b[39m\u001b[32m~/.local/lib/python3.12/site-packages/sklearn/model_selection/_validation.py:517\u001b[39m, in \u001b[36m_warn_or_raise_about_fit_failures\u001b[39m\u001b[34m(results, error_score)\u001b[39m\n\u001b[32m    510\u001b[39m \u001b[38;5;28;01mif\u001b[39;00m num_failed_fits == num_fits:\n\u001b[32m    511\u001b[39m     all_fits_failed_message = (\n\u001b[32m    512\u001b[39m         \u001b[33mf\u001b[39m\u001b[33m\"\u001b[39m\u001b[38;5;130;01m\\n\u001b[39;00m\u001b[33mAll the \u001b[39m\u001b[38;5;132;01m{\u001b[39;00mnum_fits\u001b[38;5;132;01m}\u001b[39;00m\u001b[33m fits failed.\u001b[39m\u001b[38;5;130;01m\\n\u001b[39;00m\u001b[33m\"\u001b[39m\n\u001b[32m    513\u001b[39m         \u001b[33m\"\u001b[39m\u001b[33mIt is very likely that your model is misconfigured.\u001b[39m\u001b[38;5;130;01m\\n\u001b[39;00m\u001b[33m\"\u001b[39m\n\u001b[32m    514\u001b[39m         \u001b[33m\"\u001b[39m\u001b[33mYou can try to debug the error by setting error_score=\u001b[39m\u001b[33m'\u001b[39m\u001b[33mraise\u001b[39m\u001b[33m'\u001b[39m\u001b[33m.\u001b[39m\u001b[38;5;130;01m\\n\u001b[39;00m\u001b[38;5;130;01m\\n\u001b[39;00m\u001b[33m\"\u001b[39m\n\u001b[32m    515\u001b[39m         \u001b[33mf\u001b[39m\u001b[33m\"\u001b[39m\u001b[33mBelow are more details about the failures:\u001b[39m\u001b[38;5;130;01m\\n\u001b[39;00m\u001b[38;5;132;01m{\u001b[39;00mfit_errors_summary\u001b[38;5;132;01m}\u001b[39;00m\u001b[33m\"\u001b[39m\n\u001b[32m    516\u001b[39m     )\n\u001b[32m--> \u001b[39m\u001b[32m517\u001b[39m     \u001b[38;5;28;01mraise\u001b[39;00m \u001b[38;5;167;01mValueError\u001b[39;00m(all_fits_failed_message)\n\u001b[32m    519\u001b[39m \u001b[38;5;28;01melse\u001b[39;00m:\n\u001b[32m    520\u001b[39m     some_fits_failed_message = (\n\u001b[32m    521\u001b[39m         \u001b[33mf\u001b[39m\u001b[33m\"\u001b[39m\u001b[38;5;130;01m\\n\u001b[39;00m\u001b[38;5;132;01m{\u001b[39;00mnum_failed_fits\u001b[38;5;132;01m}\u001b[39;00m\u001b[33m fits failed out of a total of \u001b[39m\u001b[38;5;132;01m{\u001b[39;00mnum_fits\u001b[38;5;132;01m}\u001b[39;00m\u001b[33m.\u001b[39m\u001b[38;5;130;01m\\n\u001b[39;00m\u001b[33m\"\u001b[39m\n\u001b[32m    522\u001b[39m         \u001b[33m\"\u001b[39m\u001b[33mThe score on these train-test partitions for these parameters\u001b[39m\u001b[33m\"\u001b[39m\n\u001b[32m   (...)\u001b[39m\u001b[32m    526\u001b[39m         \u001b[33mf\u001b[39m\u001b[33m\"\u001b[39m\u001b[33mBelow are more details about the failures:\u001b[39m\u001b[38;5;130;01m\\n\u001b[39;00m\u001b[38;5;132;01m{\u001b[39;00mfit_errors_summary\u001b[38;5;132;01m}\u001b[39;00m\u001b[33m\"\u001b[39m\n\u001b[32m    527\u001b[39m     )\n",
      "\u001b[31mValueError\u001b[39m: \nAll the 5 fits failed.\nIt is very likely that your model is misconfigured.\nYou can try to debug the error by setting error_score='raise'.\n\nBelow are more details about the failures:\n--------------------------------------------------------------------------------\n5 fits failed with the following error:\nTraceback (most recent call last):\n  File \"/home/codespace/.local/lib/python3.12/site-packages/sklearn/model_selection/_validation.py\", line 866, in _fit_and_score\n    estimator.fit(X_train, y_train, **fit_params)\n  File \"/home/codespace/.local/lib/python3.12/site-packages/sklearn/base.py\", line 1389, in wrapper\n    return fit_method(estimator, *args, **kwargs)\n           ^^^^^^^^^^^^^^^^^^^^^^^^^^^^^^^^^^^^^^\n  File \"/home/codespace/.local/lib/python3.12/site-packages/sklearn/linear_model/_base.py\", line 601, in fit\n    X, y = validate_data(\n           ^^^^^^^^^^^^^^\n  File \"/home/codespace/.local/lib/python3.12/site-packages/sklearn/utils/validation.py\", line 2961, in validate_data\n    X, y = check_X_y(X, y, **check_params)\n           ^^^^^^^^^^^^^^^^^^^^^^^^^^^^^^^\n  File \"/home/codespace/.local/lib/python3.12/site-packages/sklearn/utils/validation.py\", line 1370, in check_X_y\n    X = check_array(\n        ^^^^^^^^^^^^\n  File \"/home/codespace/.local/lib/python3.12/site-packages/sklearn/utils/validation.py\", line 1107, in check_array\n    _assert_all_finite(\n  File \"/home/codespace/.local/lib/python3.12/site-packages/sklearn/utils/validation.py\", line 120, in _assert_all_finite\n    _assert_all_finite_element_wise(\n  File \"/home/codespace/.local/lib/python3.12/site-packages/sklearn/utils/validation.py\", line 169, in _assert_all_finite_element_wise\n    raise ValueError(msg_err)\nValueError: Input X contains NaN.\nLinearRegression does not accept missing values encoded as NaN natively. For supervised learning, you might want to consider sklearn.ensemble.HistGradientBoostingClassifier and Regressor which accept missing values encoded as NaNs natively. Alternatively, it is possible to preprocess the data, for instance by using an imputer transformer in a pipeline or drop samples with missing values. See https://scikit-learn.org/stable/modules/impute.html You can find a list of all estimators that handle NaN values at the following page: https://scikit-learn.org/stable/modules/impute.html#estimators-that-handle-nan-values\n"
     ]
    }
   ],
   "source": [
    "# Part 2 Models \n",
    "from sklearn.linear_model import LinearRegression, Ridge, Lasso\n",
    "from sklearn.tree import DecisionTreeRegressor\n",
    "from sklearn.ensemble import BaggingRegressor, RandomForestRegressor\n",
    "from sklearn.model_selection import cross_val_score, KFold\n",
    "from sklearn.metrics import mean_squared_error\n",
    "\n",
    "# Linear Regression \n",
    "\n",
    "models = {\n",
    "    'Linear Regression': LinearRegression(), \n",
    "    'Ridge Regression': Ridge(), \n",
    "    'Lasso Regression': Lasso(), \n",
    "    'Decision Tree Regressor': DecisionTreeRegressor(), \n",
    "    'Bagging Regressor': BaggingRegressor(), \n",
    "    'Random Forest Regressor': RandomForestRegressor()\n",
    "}\n",
    "\n",
    "kf = KFold(n_splits=5, shuffle=True, random_state=42)\n",
    "cv_results = []\n",
    "\n",
    "for model_name, model in models.items():\n",
    "    neg_mse_scores = cross_val_score(model, X_train_combined, y_train, cv=kf, scoring='neg_mean_squared_error')\n",
    "    rmse_scores = np.sqrt(-neg_mse_scores)\n",
    "    cv_results.append({\n",
    "        'Model': model_name, \n",
    "        'Mean RMSE': np.mean(rmse_scores), \n",
    "        'Std RMSE': np.std(rmse_scores)\n",
    "    })\n",
    "\n",
    "cv_results_df_cleaned = pd.DataFrame(cv_results)\n",
    "print(cv_results_df_cleaned)\n",
    "\n",
    "\n"
   ]
  },
  {
   "cell_type": "markdown",
   "metadata": {},
   "source": [
    "### Part 2: Discussion [2 pts]\n",
    "\n",
    "Reflect on the impact of your new features:\n",
    "\n",
    "- Did any models show notable improvement in performance?\n",
    "\n",
    "- Which new features seemed to help — and in which models?\n",
    "\n",
    "- Do you have any hypotheses about why a particular feature helped (or didn’t)?\n",
    "\n",
    "- Were there any unexpected results?\n",
    "\n"
   ]
  },
  {
   "cell_type": "markdown",
   "metadata": {},
   "source": [
    "> Your text here"
   ]
  },
  {
   "cell_type": "markdown",
   "metadata": {},
   "source": [
    "### Part 3: Feature Selection [3 pts]\n",
    "\n",
    "Using the full set of features (original + engineered):\n",
    "- Apply **feature selection** methods to investigate whether you can improve performance.\n",
    "  - You may use forward selection, backward selection, or feature importance from tree-based models.\n",
    "- For each model, identify the **best-performing subset of features**.\n",
    "- Re-run each model using only those features.\n",
    "- Report updated RMSE scores (mean and std) across repeated CV in a table.\n"
   ]
  },
  {
   "cell_type": "markdown",
   "metadata": {},
   "source": [
    "### Part 3: Discussion [2 pts]\n",
    "\n",
    "Analyze the effect of feature selection on your models:\n",
    "\n",
    "- Did performance improve for any models after reducing the number of features?\n",
    "\n",
    "- Which features were consistently retained across models?\n",
    "\n",
    "- Were any of your newly engineered features selected as important?\n",
    "\n",
    "- How did feature selection differ between linear and tree-based models?"
   ]
  },
  {
   "cell_type": "markdown",
   "metadata": {},
   "source": [
    "> Your text here"
   ]
  },
  {
   "cell_type": "markdown",
   "metadata": {},
   "source": [
    "### Part 4: Fine-Tuning Your Top 3 Models [6 pts]\n",
    "\n",
    "In this final phase of Milestone 2, you’ll select and refine your **three most promising models and their corresponding data pipelines** based on everything you've done so far.\n",
    "\n",
    "1. Choose the top 3 models based on performance and interpretability from earlier parts.\n",
    "2. For each model:\n",
    "   - Perform hyperparameter tuning using `sweep_parameters`, `GridSearchCV`, `RandomizedSearchCV`, or other techniques from previous homeworks. \n",
    "   - Experiment with different versions of your feature engineering and preprocessing — treat these as additional tunable components.\n",
    "3. Report the mean and standard deviation of CV RMSE score for each model in a summary table.\n",
    "\n"
   ]
  },
  {
   "cell_type": "code",
   "execution_count": null,
   "metadata": {},
   "outputs": [],
   "source": [
    "# Add as many code cells as you need"
   ]
  },
  {
   "cell_type": "markdown",
   "metadata": {},
   "source": [
    "### Part 4: Discussion [4 pts]\n",
    "\n",
    "Reflect on your tuning process and final results:\n",
    "\n",
    "- What was your tuning strategy for each model? Why did you choose those hyperparameters?\n",
    "- Did you find that certain types of preprocessing or feature engineering worked better with specific models?\n",
    "- Provide a ranking of your three models and explain your reasoning — not just based on RMSE, but also interpretability, training time, or generalizability.\n",
    "- Conclude by considering whether this workflow has produced the results you expected. Typically, you would repeat steps 2 - 4 and also reconsider the choices you made in Milestone 1 when cleaning the dataset, until reaching the point of diminishing returns; do you think that would that have helped here?"
   ]
  },
  {
   "cell_type": "markdown",
   "metadata": {},
   "source": [
    "> Your text here"
   ]
  }
 ],
 "metadata": {
  "kernelspec": {
   "display_name": "Python 3",
   "language": "python",
   "name": "python3"
  },
  "language_info": {
   "codemirror_mode": {
    "name": "ipython",
    "version": 3
   },
   "file_extension": ".py",
   "mimetype": "text/x-python",
   "name": "python",
   "nbconvert_exporter": "python",
   "pygments_lexer": "ipython3",
   "version": "3.12.1"
  }
 },
 "nbformat": 4,
 "nbformat_minor": 4
}
