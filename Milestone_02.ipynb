{
 "cells": [
  {
   "cell_type": "markdown",
   "metadata": {},
   "source": [
    "# Project Milestone Two: Modeling and Feature Engineering\n",
    "\n",
    "### Due: Midnight on April 13 (with 2-hour grace period) and worth 25 points\n",
    "\n",
    "### Overview\n",
    "\n",
    "This milestone builds on your work from Milestone 1. You will:\n",
    "\n",
    "1. Evaluate baseline models using default settings.\n",
    "2. Engineer new features and re-evaluate models.\n",
    "3. Use feature selection techniques to find promising subsets.\n",
    "4. Select the top 3 models and fine-tune them for optimal performance.\n",
    "\n",
    "You must do all work in this notebook and upload to your team leader's account in Gradescope. There is no\n",
    "Individual Assessment for this Milestone. \n"
   ]
  },
  {
   "cell_type": "code",
   "execution_count": 1,
   "metadata": {},
   "outputs": [
    {
     "name": "stdout",
     "output_type": "stream",
     "text": [
      "Collecting tqdm\n",
      "  Downloading tqdm-4.67.1-py3-none-any.whl.metadata (57 kB)\n",
      "Downloading tqdm-4.67.1-py3-none-any.whl (78 kB)\n",
      "Installing collected packages: tqdm\n",
      "Successfully installed tqdm-4.67.1\n",
      "Note: you may need to restart the kernel to use updated packages.\n"
     ]
    }
   ],
   "source": [
    "pip install tqdm"
   ]
  },
  {
   "cell_type": "code",
   "execution_count": 3,
   "metadata": {},
   "outputs": [],
   "source": [
    "# ===================================\n",
    "# Useful Imports: Add more as needed\n",
    "# ===================================\n",
    "\n",
    "# Standard Libraries\n",
    "import os\n",
    "import time\n",
    "import math\n",
    "import io\n",
    "import zipfile\n",
    "import requests\n",
    "from urllib.parse import urlparse\n",
    "from itertools import chain, combinations\n",
    "\n",
    "# Data Science Libraries\n",
    "import numpy as np\n",
    "import pandas as pd\n",
    "import seaborn as sns\n",
    "\n",
    "# Visualization\n",
    "import matplotlib.pyplot as plt\n",
    "import matplotlib.patches as patches\n",
    "import matplotlib.ticker as mticker  # Optional: Format y-axis labels as dollars\n",
    "import seaborn as sns\n",
    "\n",
    "# Scikit-learn (Machine Learning)\n",
    "from sklearn.model_selection import (\n",
    "    train_test_split, \n",
    "    cross_val_score, \n",
    "    GridSearchCV, \n",
    "    RandomizedSearchCV, \n",
    "    RepeatedKFold\n",
    ")\n",
    "from sklearn.preprocessing import StandardScaler, OrdinalEncoder\n",
    "from sklearn.impute import SimpleImputer\n",
    "from sklearn.metrics import mean_squared_error\n",
    "from sklearn.feature_selection import SequentialFeatureSelector, f_regression, SelectKBest\n",
    "from sklearn.linear_model import LinearRegression, Ridge, Lasso, ElasticNet\n",
    "from sklearn.ensemble import BaggingRegressor, RandomForestRegressor, GradientBoostingRegressor\n",
    "\n",
    "# Progress Tracking\n",
    "\n",
    "from tqdm import tqdm\n",
    "\n",
    "# =============================\n",
    "# Global Variables\n",
    "# =============================\n",
    "random_state = 42\n",
    "\n",
    "# =============================\n",
    "# Utility Functions\n",
    "# =============================\n",
    "\n",
    "# Format y-axis labels as dollars with commas (optional)\n",
    "def dollar_format(x, pos):\n",
    "    return f'${x:,.0f}'\n",
    "\n",
    "# Convert seconds to HH:MM:SS format\n",
    "def format_hms(seconds):\n",
    "    return time.strftime(\"%H:%M:%S\", time.gmtime(seconds))\n",
    "\n"
   ]
  },
  {
   "cell_type": "code",
   "execution_count": null,
   "metadata": {},
   "outputs": [],
   "source": [
    "#this is my change "
   ]
  },
  {
   "cell_type": "markdown",
   "metadata": {},
   "source": [
    "## Prelude: Load your Preprocessed Dataset from Milestone 1\n",
    "\n",
    "In Milestone 1, you handled missing values, encoded categorical features, and explored your data. Before you begin this milestone, you’ll need to load that cleaned dataset and prepare it for modeling.\n",
    "\n",
    "Here’s what to do:\n",
    "\n",
    "1. Return to your Milestone 1 notebook and rerun your code through Part 3, where your dataset was fully cleaned (assume it’s called `df_cleaned`).\n",
    "\n",
    "2. **Save** the cleaned dataset to a file by running:\n",
    "\n",
    ">   df_cleaned.to_csv(\"zillow_cleaned.csv\", index=False)\n",
    "\n",
    "3. Switch to this notebook and **load** the saved data:\n",
    "\n",
    ">   df = pd.read_csv(\"zillow_cleaned.csv\")\n",
    "\n",
    "4. Create a **train/test split** using `train_test_split`.  \n",
    "   \n",
    "6. **Standardize** the features (but not the target!) using **only the training data.** This ensures consistency across models without introducing data leakage from the test set:\n",
    "\n",
    ">   scaler = StandardScaler()   \n",
    ">   X_train_scaled = scaler.fit_transform(X_train)    \n",
    "  \n",
    "**Notes:** \n",
    "\n",
    "- You will not use the testing set during this milestone — it’s reserved for final evaluation later.\n",
    "- You will have to redo the scaling step when you introduce new features (which have to be scaled as well).\n"
   ]
  },
  {
   "cell_type": "code",
   "execution_count": 7,
   "metadata": {},
   "outputs": [
    {
     "name": "stdout",
     "output_type": "stream",
     "text": [
      "       airconditioningtypeid  architecturalstyletypeid   bathroomcnt  \\\n",
      "count           77613.000000              77613.000000  77613.000000   \n",
      "mean                1.812013                  7.386473      2.298496   \n",
      "std                 1.683429                  0.140546      0.996513   \n",
      "min                 1.000000                  2.000000      0.000000   \n",
      "25%                 1.000000                  7.386473      2.000000   \n",
      "50%                 1.812013                  7.386473      2.000000   \n",
      "75%                 1.812013                  7.386473      3.000000   \n",
      "max                13.000000                 21.000000     18.000000   \n",
      "\n",
      "         bedroomcnt  buildingclasstypeid  buildingqualitytypeid  \\\n",
      "count  77613.000000         77613.000000           77613.000000   \n",
      "mean       3.053223             3.933333               6.533779   \n",
      "std        1.140230             0.003468               1.379538   \n",
      "min        0.000000             3.000000               1.000000   \n",
      "25%        2.000000             3.933333               6.000000   \n",
      "50%        3.000000             3.933333               6.533779   \n",
      "75%        4.000000             3.933333               7.000000   \n",
      "max       16.000000             4.000000              12.000000   \n",
      "\n",
      "       calculatedbathnbr  decktypeid  finishedfloor1squarefeet  \\\n",
      "count       77613.000000     77613.0              77613.000000   \n",
      "mean            2.316392        66.0               1366.165314   \n",
      "std             0.975578         0.0                187.042091   \n",
      "min             1.000000        66.0                 44.000000   \n",
      "25%             2.000000        66.0               1366.165314   \n",
      "50%             2.000000        66.0               1366.165314   \n",
      "75%             3.000000        66.0               1366.165314   \n",
      "max            18.000000        66.0               6912.000000   \n",
      "\n",
      "       calculatedfinishedsquarefeet  ...  numberofstories  assessmentyear  \\\n",
      "count                  77613.000000  ...     77613.000000         77613.0   \n",
      "mean                    1784.935421  ...         1.434286          2016.0   \n",
      "std                      952.804598  ...         0.259285             0.0   \n",
      "min                      128.000000  ...         1.000000          2016.0   \n",
      "25%                     1184.000000  ...         1.434286          2016.0   \n",
      "50%                     1546.000000  ...         1.434286          2016.0   \n",
      "75%                     2109.000000  ...         1.434286          2016.0   \n",
      "max                    35640.000000  ...         6.000000          2016.0   \n",
      "\n",
      "       taxdelinquencyyear  taxvaluedollarcnt  mean_propertycountylandusecode  \\\n",
      "count        77613.000000       7.761300e+04                    7.761300e+04   \n",
      "mean            14.088276       4.901506e+05                    4.901506e+05   \n",
      "std              0.421572       6.536504e+05                    1.892402e+05   \n",
      "min              3.000000       1.000000e+03                    1.450000e+05   \n",
      "25%             14.088276       2.069250e+05                    4.021687e+05   \n",
      "50%             14.088276       3.589710e+05                    4.043582e+05   \n",
      "75%             14.088276       5.688620e+05                    5.588589e+05   \n",
      "max             99.000000       4.906124e+07                    8.068454e+06   \n",
      "\n",
      "       mean_propertyzoningdesc  hashottuborspa_True  hashottuborspa_Missing  \\\n",
      "count             7.761300e+04         77613.000000            77613.000000   \n",
      "mean              4.901506e+05             0.019829                0.980171   \n",
      "std               2.877158e+05             0.139414                0.139414   \n",
      "min               3.101800e+04             0.000000                0.000000   \n",
      "25%               3.565037e+05             0.000000                1.000000   \n",
      "50%               5.238313e+05             0.000000                1.000000   \n",
      "75%               5.238313e+05             0.000000                1.000000   \n",
      "max               9.324332e+06             1.000000                1.000000   \n",
      "\n",
      "       taxdelinquencyflag_Missing  taxdelinquencyflag_Y  \n",
      "count                77613.000000          77613.000000  \n",
      "mean                     0.962635              0.037365  \n",
      "std                      0.189655              0.189655  \n",
      "min                      0.000000              0.000000  \n",
      "25%                      1.000000              0.000000  \n",
      "50%                      1.000000              0.000000  \n",
      "75%                      1.000000              0.000000  \n",
      "max                      1.000000              1.000000  \n",
      "\n",
      "[8 rows x 50 columns]\n",
      "<class 'pandas.core.frame.DataFrame'>\n",
      "RangeIndex: 77613 entries, 0 to 77612\n",
      "Data columns (total 50 columns):\n",
      " #   Column                          Non-Null Count  Dtype  \n",
      "---  ------                          --------------  -----  \n",
      " 0   airconditioningtypeid           77613 non-null  float64\n",
      " 1   architecturalstyletypeid        77613 non-null  float64\n",
      " 2   bathroomcnt                     77613 non-null  float64\n",
      " 3   bedroomcnt                      77613 non-null  float64\n",
      " 4   buildingclasstypeid             77613 non-null  float64\n",
      " 5   buildingqualitytypeid           77613 non-null  float64\n",
      " 6   calculatedbathnbr               77613 non-null  float64\n",
      " 7   decktypeid                      77613 non-null  float64\n",
      " 8   finishedfloor1squarefeet        77613 non-null  float64\n",
      " 9   calculatedfinishedsquarefeet    77613 non-null  float64\n",
      " 10  finishedsquarefeet12            77613 non-null  float64\n",
      " 11  finishedsquarefeet13            77613 non-null  float64\n",
      " 12  finishedsquarefeet15            77613 non-null  float64\n",
      " 13  finishedsquarefeet50            77613 non-null  float64\n",
      " 14  finishedsquarefeet6             77613 non-null  float64\n",
      " 15  fips                            77613 non-null  float64\n",
      " 16  fullbathcnt                     77613 non-null  float64\n",
      " 17  garagecarcnt                    77613 non-null  float64\n",
      " 18  garagetotalsqft                 77613 non-null  float64\n",
      " 19  heatingorsystemtypeid           77613 non-null  float64\n",
      " 20  latitude                        77613 non-null  float64\n",
      " 21  longitude                       77613 non-null  float64\n",
      " 22  lotsizesquarefeet               77613 non-null  float64\n",
      " 23  poolcnt                         77613 non-null  float64\n",
      " 24  poolsizesum                     77613 non-null  float64\n",
      " 25  pooltypeid10                    77613 non-null  float64\n",
      " 26  pooltypeid2                     77613 non-null  float64\n",
      " 27  pooltypeid7                     77613 non-null  float64\n",
      " 28  propertylandusetypeid           77613 non-null  float64\n",
      " 29  rawcensustractandblock          77613 non-null  float64\n",
      " 30  regionidcity                    77613 non-null  float64\n",
      " 31  regionidcounty                  77613 non-null  float64\n",
      " 32  regionidneighborhood            77613 non-null  float64\n",
      " 33  regionidzip                     77613 non-null  float64\n",
      " 34  roomcnt                         77613 non-null  float64\n",
      " 35  threequarterbathnbr             77613 non-null  float64\n",
      " 36  typeconstructiontypeid          77613 non-null  float64\n",
      " 37  unitcnt                         77613 non-null  float64\n",
      " 38  yardbuildingsqft26              77613 non-null  float64\n",
      " 39  yearbuilt                       77613 non-null  float64\n",
      " 40  numberofstories                 77613 non-null  float64\n",
      " 41  assessmentyear                  77613 non-null  float64\n",
      " 42  taxdelinquencyyear              77613 non-null  float64\n",
      " 43  taxvaluedollarcnt               77613 non-null  float64\n",
      " 44  mean_propertycountylandusecode  77613 non-null  float64\n",
      " 45  mean_propertyzoningdesc         77613 non-null  float64\n",
      " 46  hashottuborspa_True             77613 non-null  int64  \n",
      " 47  hashottuborspa_Missing          77613 non-null  int64  \n",
      " 48  taxdelinquencyflag_Missing      77613 non-null  int64  \n",
      " 49  taxdelinquencyflag_Y            77613 non-null  int64  \n",
      "dtypes: float64(46), int64(4)\n",
      "memory usage: 29.6 MB\n",
      "None\n"
     ]
    }
   ],
   "source": [
    "df_cleaned = pd.read_csv('zillow_cleaned.csv')\n",
    "print(df_cleaned.describe())\n",
    "print(df_cleaned.info())\n"
   ]
  },
  {
   "cell_type": "code",
   "execution_count": 8,
   "metadata": {},
   "outputs": [],
   "source": [
    "# missing_data = df.isnull().sum().sort_values(ascending=False)\n",
    "\n",
    "# # Impute missing numerical values with the mean and categorical values with the mode\n",
    "# numerical_cols = df.select_dtypes(include=['float64', 'int64']).columns\n",
    "# categorical_cols = df.select_dtypes(include=['object']).columns\n",
    "\n",
    "# # Insert numerical columns with the mean\n",
    "# df[numerical_cols] = df[numerical_cols].fillna(df[numerical_cols].mean())\n",
    "\n",
    "# # Insert categorical columns with the mode\n",
    "# df[categorical_cols].fillna(df[categorical_cols].mode().iloc[0])\n",
    "\n",
    "# # One-Hot Encoding categorical variables\n",
    "# df = pd.get_dummies(df, columns=categorical_cols, drop_first=True)"
   ]
  },
  {
   "cell_type": "code",
   "execution_count": 9,
   "metadata": {},
   "outputs": [],
   "source": [
    "# drop_cols_1 = ['basementsqft', 'yardbuildingsqft17', 'fireplacecnt', 'storytypeid']\n",
    "\n",
    "# # Drop the columns\n",
    "# df.drop(columns=drop_cols_1, inplace=True)\n",
    "\n",
    "# # Confirm the changes\n",
    "# df.info()"
   ]
  },
  {
   "cell_type": "code",
   "execution_count": 10,
   "metadata": {},
   "outputs": [],
   "source": [
    "# # drop samples with too many null values \n",
    "# threshold = 0.50  #gets rid of rows with over 50% missing values \n",
    "# null_percentage = df.isnull().mean(axis=1)\n",
    "# df_cleaned3c = df[null_percentage < threshold]\n",
    "# #print(df_cleaned3c) #these is the dataframe with dropped samples with na values > 50%\n",
    "\n",
    "# # drop samples with null values in target \n",
    "# df_no_null_target = df_cleaned3c[df_cleaned3c['taxvaluedollarcnt'].notnull()]\n",
    "# #print(df_no_null_target)\n",
    "\n",
    "# #get rid of samples with outliers in target using quartiles\n",
    "# q1 = df_no_null_target['taxvaluedollarcnt'].quantile(0.25)\n",
    "# q3 = df_no_null_target['taxvaluedollarcnt'].quantile(0.75)\n",
    "# IQR = q3 - q1\n",
    "# lower_bound = q1 - 1.5 * IQR\n",
    "# upper_bound = q3 + 1.5 * IQR\n",
    "\n",
    "# df_no_target_outliers = df_no_null_target[(df_no_null_target['taxvaluedollarcnt'] >= lower_bound) & (df_no_null_target['taxvaluedollarcnt']<= upper_bound)]\n",
    "# print(df_no_target_outliers)\n",
    "# df_no_target_outliers.info()\n",
    "\n",
    "# # mode imputation since categorical variables present\n",
    "\n",
    "# mode_imputed_data = df_no_target_outliers.fillna(df_no_target_outliers.mode().iloc[0])\n",
    "# # print(mode_imputed_data)\n",
    "\n",
    "# df_cleaned = mode_imputed_data\n",
    "# print(df_cleaned)\n",
    "\n",
    "# cleaned_data = pd.DataFrame(df_cleaned)\n",
    "# cleaned_data.to_csv('M1_cleaned_data.csv', index=False)"
   ]
  },
  {
   "cell_type": "markdown",
   "metadata": {},
   "source": [
    "### Part 1: Baseline Modeling [3 pts]\n",
    "\n",
    "Apply the following regression models to the scaled training dataset using **default parameters**:\n",
    "\n",
    "- Linear Regression\n",
    "- Ridge Regression\n",
    "- Lasso Regression\n",
    "- Decision Tree Regression\n",
    "- Bagging\n",
    "- Random Forest\n",
    "- Gradient Boosting Trees\n",
    "\n",
    "For each model:\n",
    "- Use **repeated cross-validation** (e.g., 5 folds, 5 repeats).\n",
    "- Report the **mean and standard deviation of CV RMSE Score** across all folds in a table. \n"
   ]
  },
  {
   "cell_type": "code",
   "execution_count": 17,
   "metadata": {},
   "outputs": [],
   "source": [
    "# Add as many code cells as you need"
   ]
  },
  {
   "cell_type": "markdown",
   "metadata": {},
   "source": [
    "### Part 1: Discussion [2 pts]\n",
    "\n",
    "In a paragraph or well-organized set of bullet points, briefly compare and discuss:\n",
    "\n",
    "  - Which models perform best overall?\n",
    "  - Which are most stable (lowest std)?\n",
    "  - Any signs of overfitting or underfitting?"
   ]
  },
  {
   "cell_type": "markdown",
   "metadata": {},
   "source": [
    "> Your text here"
   ]
  },
  {
   "cell_type": "markdown",
   "metadata": {},
   "source": [
    "### Part 2: Feature Engineering [3 pts]\n",
    "\n",
    "Consider **at least three new features** based on your Milestone 1, Part 5. Examples include:\n",
    "- Polynomial terms\n",
    "- Log or interaction terms\n",
    "- Groupings or transformations of categorical features\n",
    "\n",
    "Add these features to `X_train` and then:\n",
    "- Scale using `StandardScaler` \n",
    "- Re-run all models listed above (using default settings again).\n",
    "- Report updated RMSE scores (mean and std) across repeated CV in a table. \n",
    "\n",
    "**Note:**  Recall that this will require creating a new version of the dataset, so effectively you may be running \"polynomial regression\" using `LinearRegression`. "
   ]
  },
  {
   "cell_type": "code",
   "execution_count": null,
   "metadata": {},
   "outputs": [],
   "source": [
    "# Add as many code cells as you need\n",
    "\n",
    "from sklearn.preprocessing import StandardScaler, PolynomialFeatures \n",
    "from sklearn.model_selection import cross_val_score, RepeatedKFold\n",
    "from sklearn.linear_model import LinearRegression\n",
    "from sklearn.tree import DecisionTreeRegressor\n",
    "from sklearn.ensemble import RandomForestRegressor\n",
    "from sklearn.model_selection import train_test_split\n"
   ]
  },
  {
   "cell_type": "code",
   "execution_count": 19,
   "metadata": {},
   "outputs": [],
   "source": [
    "# train test split cleaned dataset \n",
    "X = df_cleaned.drop(columns=['taxvaluedollarcnt']) # Features (all columns except the target)\n",
    "y = df_cleaned['taxvaluedollarcnt'] # Target variable\n",
    "X_train, X_test, y_train, y_test = train_test_split(X, y, test_size=0.2, random_state=42)\n",
    "\n",
    "X_train_num = X_train.select_dtypes(include=[np.number])\n",
    "X_test_num = X_test.select_dtypes(include=[np.number])"
   ]
  },
  {
   "cell_type": "code",
   "execution_count": 22,
   "metadata": {},
   "outputs": [],
   "source": [
    "# Feature 1: Polynomial Features \n",
    "\n",
    "#setup poly \n",
    "poly = PolynomialFeatures(degree=2, include_bias=False)\n",
    "X_train_poly = poly.fit_transform(X_train_num)\n",
    "X_test_poly = poly.transform(X_test_num)\n",
    "\n",
    "feature_names_poly = poly.get_feature_names_out(X_train_num.columns)\n",
    "#train values on poly \n",
    "X_train_poly_df_cleaned = pd.DataFrame(X_train_poly, columns=feature_names_poly, index=X_train.index)\n",
    "X_test_poly_df_cleaned = pd.DataFrame(X_test_poly, columns=feature_names_poly, index=X_test.index)\n",
    "#print(X_train_poly_df_cleaned)\n",
    "\n",
    "#scale  \n",
    "scaler = StandardScaler()\n",
    "X_train_poly_scaled = scaler.fit_transform(X_train_poly_df_cleaned)\n",
    "X_test_poly_scaled = scaler.transform(X_test_poly_df_cleaned)"
   ]
  },
  {
   "cell_type": "code",
   "execution_count": null,
   "metadata": {},
   "outputs": [],
   "source": [
    "# Feature 1 Modeling: \n",
    "\n",
    "\n"
   ]
  },
  {
   "cell_type": "code",
   "execution_count": null,
   "metadata": {},
   "outputs": [
    {
     "name": "stderr",
     "output_type": "stream",
     "text": [
      "/home/codespace/.local/lib/python3.12/site-packages/pandas/core/internals/blocks.py:393: RuntimeWarning: invalid value encountered in log1p\n",
      "  result = func(self.values, **kwargs)\n",
      "/home/codespace/.local/lib/python3.12/site-packages/sklearn/utils/extmath.py:1101: RuntimeWarning: invalid value encountered in divide\n",
      "  updated_mean = (last_sum + new_sum) / updated_sample_count\n",
      "/home/codespace/.local/lib/python3.12/site-packages/sklearn/utils/extmath.py:1106: RuntimeWarning: invalid value encountered in divide\n",
      "  T = new_sum / new_sample_count\n",
      "/home/codespace/.local/lib/python3.12/site-packages/sklearn/utils/extmath.py:1126: RuntimeWarning: invalid value encountered in divide\n",
      "  new_unnormalized_variance -= correction**2 / new_sample_count\n",
      "/home/codespace/.local/lib/python3.12/site-packages/sklearn/utils/extmath.py:1101: RuntimeWarning: invalid value encountered in divide\n",
      "  updated_mean = (last_sum + new_sum) / updated_sample_count\n",
      "/home/codespace/.local/lib/python3.12/site-packages/sklearn/utils/extmath.py:1106: RuntimeWarning: invalid value encountered in divide\n",
      "  T = new_sum / new_sample_count\n",
      "/home/codespace/.local/lib/python3.12/site-packages/sklearn/utils/extmath.py:1126: RuntimeWarning: invalid value encountered in divide\n",
      "  new_unnormalized_variance -= correction**2 / new_sample_count\n"
     ]
    }
   ],
   "source": [
    "# Feature 2: Logarithmic Features \n",
    "\n",
    "#setup log\n",
    "X_train_log = np.log1p(X_train_num)\n",
    "X_test_log = np.log1p(X_test_num)\n",
    "\n",
    "X_train_log.columns = [f'log_{col}' for col in X_train_log.columns]\n",
    "X_test_log.columns = [f'log_{col}' for col in X_test_log.columns]\n",
    "\n",
    "#scale \n",
    "scaler = StandardScaler()\n",
    "X_train_log_scaled = scaler.fit_transform(X_train_log)\n",
    "X_test_log_scaled = scaler.fit_transform(X_test_log)\n"
   ]
  },
  {
   "cell_type": "code",
   "execution_count": null,
   "metadata": {},
   "outputs": [],
   "source": [
    "# Feature 2 Modeling: \n",
    "\n"
   ]
  },
  {
   "cell_type": "code",
   "execution_count": 25,
   "metadata": {},
   "outputs": [
    {
     "name": "stdout",
     "output_type": "stream",
     "text": [
      "Collecting category_encoders\n",
      "  Downloading category_encoders-2.8.1-py3-none-any.whl.metadata (7.9 kB)\n",
      "Requirement already satisfied: numpy>=1.14.0 in /home/codespace/.local/lib/python3.12/site-packages (from category_encoders) (2.2.4)\n",
      "Requirement already satisfied: pandas>=1.0.5 in /home/codespace/.local/lib/python3.12/site-packages (from category_encoders) (2.2.3)\n",
      "Collecting patsy>=0.5.1 (from category_encoders)\n",
      "  Downloading patsy-1.0.1-py2.py3-none-any.whl.metadata (3.3 kB)\n",
      "Requirement already satisfied: scikit-learn>=1.6.0 in /home/codespace/.local/lib/python3.12/site-packages (from category_encoders) (1.6.1)\n",
      "Requirement already satisfied: scipy>=1.0.0 in /home/codespace/.local/lib/python3.12/site-packages (from category_encoders) (1.15.2)\n",
      "Collecting statsmodels>=0.9.0 (from category_encoders)\n",
      "  Downloading statsmodels-0.14.4-cp312-cp312-manylinux_2_17_x86_64.manylinux2014_x86_64.whl.metadata (9.2 kB)\n",
      "Requirement already satisfied: python-dateutil>=2.8.2 in /home/codespace/.local/lib/python3.12/site-packages (from pandas>=1.0.5->category_encoders) (2.9.0.post0)\n",
      "Requirement already satisfied: pytz>=2020.1 in /home/codespace/.local/lib/python3.12/site-packages (from pandas>=1.0.5->category_encoders) (2025.1)\n",
      "Requirement already satisfied: tzdata>=2022.7 in /home/codespace/.local/lib/python3.12/site-packages (from pandas>=1.0.5->category_encoders) (2025.1)\n",
      "Requirement already satisfied: joblib>=1.2.0 in /home/codespace/.local/lib/python3.12/site-packages (from scikit-learn>=1.6.0->category_encoders) (1.4.2)\n",
      "Requirement already satisfied: threadpoolctl>=3.1.0 in /home/codespace/.local/lib/python3.12/site-packages (from scikit-learn>=1.6.0->category_encoders) (3.6.0)\n",
      "Requirement already satisfied: packaging>=21.3 in /home/codespace/.local/lib/python3.12/site-packages (from statsmodels>=0.9.0->category_encoders) (24.2)\n",
      "Requirement already satisfied: six>=1.5 in /home/codespace/.local/lib/python3.12/site-packages (from python-dateutil>=2.8.2->pandas>=1.0.5->category_encoders) (1.17.0)\n",
      "Downloading category_encoders-2.8.1-py3-none-any.whl (85 kB)\n",
      "Downloading patsy-1.0.1-py2.py3-none-any.whl (232 kB)\n",
      "Downloading statsmodels-0.14.4-cp312-cp312-manylinux_2_17_x86_64.manylinux2014_x86_64.whl (10.7 MB)\n",
      "\u001b[2K   \u001b[90m━━━━━━━━━━━━━━━━━━━━━━━━━━━━━━━━━━━━━━━━\u001b[0m \u001b[32m10.7/10.7 MB\u001b[0m \u001b[31m45.1 MB/s\u001b[0m eta \u001b[36m0:00:00\u001b[0m:00:01\u001b[0m\n",
      "\u001b[?25hInstalling collected packages: patsy, statsmodels, category_encoders\n",
      "Successfully installed category_encoders-2.8.1 patsy-1.0.1 statsmodels-0.14.4\n",
      "Note: you may need to restart the kernel to use updated packages.\n"
     ]
    }
   ],
   "source": [
    "pip install category_encoders"
   ]
  },
  {
   "cell_type": "code",
   "execution_count": 29,
   "metadata": {},
   "outputs": [],
   "source": [
    "# Feature 3: Target Encoding\n",
    "\n",
    "#setup Target Encoding\n",
    "import category_encoders as ce\n",
    "categorical_cols = X_train.select_dtypes(include='object').columns\n",
    "target_encoder = ce.TargetEncoder(cols=categorical_cols)\n",
    "X_train_target_encoder = target_encoder.fit_transform(X_train[categorical_cols], y_train)\n",
    "X_test_target_encoder = target_encoder.transform(X_test[categorical_cols])\n",
    "\n",
    "\n"
   ]
  },
  {
   "cell_type": "code",
   "execution_count": null,
   "metadata": {},
   "outputs": [],
   "source": [
    "# Feature 3 Modeling: \n",
    "\n",
    "\n"
   ]
  },
  {
   "cell_type": "code",
   "execution_count": 30,
   "metadata": {},
   "outputs": [],
   "source": [
    "# combine all features into X_train\n",
    "\n",
    "X_train_combined = pd.concat([\n",
    "    pd.DataFrame(X_train_poly_df_cleaned, columns=feature_names_poly, index=X_train.index),\n",
    "    X_train_log, \n",
    "    X_train_target_encoder\n",
    "], axis=1)\n",
    "\n",
    "X_test_combined = pd.concat([\n",
    "    pd.DataFrame(X_test_poly_df_cleaned, columns=feature_names_poly, index=X_test.index), \n",
    "    X_test_log, \n",
    "    X_test_target_encoder\n",
    "], axis=1)"
   ]
  },
  {
   "cell_type": "code",
   "execution_count": 31,
   "metadata": {},
   "outputs": [
    {
     "ename": "",
     "evalue": "",
     "output_type": "error",
     "traceback": [
      "\u001b[1;31mThe Kernel crashed while executing code in the current cell or a previous cell. \n",
      "\u001b[1;31mPlease review the code in the cell(s) to identify a possible cause of the failure. \n",
      "\u001b[1;31mClick <a href='https://aka.ms/vscodeJupyterKernelCrash'>here</a> for more info. \n",
      "\u001b[1;31mView Jupyter <a href='command:jupyter.viewOutput'>log</a> for further details."
     ]
    }
   ],
   "source": [
    "#scale using StandardScaling\n",
    "\n",
    "scaler = StandardScaler()\n",
    "X_train_scaled_combined = scaler.fit_transform(X_train_combined)\n",
    "X_test_scaled_combiend = scaler.fit_transform(X_test_combined)"
   ]
  },
  {
   "cell_type": "markdown",
   "metadata": {},
   "source": [
    "### Part 2: Discussion [2 pts]\n",
    "\n",
    "Reflect on the impact of your new features:\n",
    "\n",
    "- Did any models show notable improvement in performance?\n",
    "\n",
    "- Which new features seemed to help — and in which models?\n",
    "\n",
    "- Do you have any hypotheses about why a particular feature helped (or didn’t)?\n",
    "\n",
    "- Were there any unexpected results?\n",
    "\n"
   ]
  },
  {
   "cell_type": "markdown",
   "metadata": {},
   "source": [
    "> Your text here"
   ]
  },
  {
   "cell_type": "markdown",
   "metadata": {},
   "source": [
    "### Part 3: Feature Selection [3 pts]\n",
    "\n",
    "Using the full set of features (original + engineered):\n",
    "- Apply **feature selection** methods to investigate whether you can improve performance.\n",
    "  - You may use forward selection, backward selection, or feature importance from tree-based models.\n",
    "- For each model, identify the **best-performing subset of features**.\n",
    "- Re-run each model using only those features.\n",
    "- Report updated RMSE scores (mean and std) across repeated CV in a table.\n"
   ]
  },
  {
   "cell_type": "markdown",
   "metadata": {},
   "source": [
    "### Part 3: Discussion [2 pts]\n",
    "\n",
    "Analyze the effect of feature selection on your models:\n",
    "\n",
    "- Did performance improve for any models after reducing the number of features?\n",
    "\n",
    "- Which features were consistently retained across models?\n",
    "\n",
    "- Were any of your newly engineered features selected as important?\n",
    "\n",
    "- How did feature selection differ between linear and tree-based models?"
   ]
  },
  {
   "cell_type": "markdown",
   "metadata": {},
   "source": [
    "> Your text here"
   ]
  },
  {
   "cell_type": "markdown",
   "metadata": {},
   "source": [
    "### Part 4: Fine-Tuning Your Top 3 Models [6 pts]\n",
    "\n",
    "In this final phase of Milestone 2, you’ll select and refine your **three most promising models and their corresponding data pipelines** based on everything you've done so far.\n",
    "\n",
    "1. Choose the top 3 models based on performance and interpretability from earlier parts.\n",
    "2. For each model:\n",
    "   - Perform hyperparameter tuning using `sweep_parameters`, `GridSearchCV`, `RandomizedSearchCV`, or other techniques from previous homeworks. \n",
    "   - Experiment with different versions of your feature engineering and preprocessing — treat these as additional tunable components.\n",
    "3. Report the mean and standard deviation of CV RMSE score for each model in a summary table.\n",
    "\n"
   ]
  },
  {
   "cell_type": "code",
   "execution_count": 19,
   "metadata": {},
   "outputs": [],
   "source": [
    "# Add as many code cells as you need"
   ]
  },
  {
   "cell_type": "markdown",
   "metadata": {},
   "source": [
    "### Part 4: Discussion [4 pts]\n",
    "\n",
    "Reflect on your tuning process and final results:\n",
    "\n",
    "- What was your tuning strategy for each model? Why did you choose those hyperparameters?\n",
    "- Did you find that certain types of preprocessing or feature engineering worked better with specific models?\n",
    "- Provide a ranking of your three models and explain your reasoning — not just based on RMSE, but also interpretability, training time, or generalizability.\n",
    "- Conclude by considering whether this workflow has produced the results you expected. Typically, you would repeat steps 2 - 4 and also reconsider the choices you made in Milestone 1 when cleaning the dataset, until reaching the point of diminishing returns; do you think that would that have helped here?"
   ]
  },
  {
   "cell_type": "markdown",
   "metadata": {},
   "source": [
    "> Your text here"
   ]
  }
 ],
 "metadata": {
  "kernelspec": {
   "display_name": "Python 3",
   "language": "python",
   "name": "python3"
  },
  "language_info": {
   "codemirror_mode": {
    "name": "ipython",
    "version": 3
   },
   "file_extension": ".py",
   "mimetype": "text/x-python",
   "name": "python",
   "nbconvert_exporter": "python",
   "pygments_lexer": "ipython3",
   "version": "3.12.1"
  }
 },
 "nbformat": 4,
 "nbformat_minor": 4
}
